{
 "cells": [
  {
   "cell_type": "markdown",
   "id": "567cce7a",
   "metadata": {},
   "source": [
    "# DATA DICTIONARY\n",
    "\n",
    "1. `id`: Unique identifier or ID for each artist.\n",
    "2. `followers`: The number of followers or fans an artist has.\n",
    "3. `genres`: The music genres associated with the artist.\n",
    "4. `name`: The name of the artist.\n",
    "5. `popularity`: A measure of the artist's popularity.\n"
   ]
  },
  {
   "cell_type": "code",
   "execution_count": 1,
   "id": "8295a231",
   "metadata": {},
   "outputs": [],
   "source": [
    "import pandas as pd\n",
    "import numpy as np\n",
    "import seaborn as sns\n",
    "import matplotlib.pyplot as plt"
   ]
  },
  {
   "cell_type": "code",
   "execution_count": 2,
   "id": "d9508ddf",
   "metadata": {},
   "outputs": [],
   "source": [
    "artists=pd.read_csv('artists.csv')"
   ]
  },
  {
   "cell_type": "code",
   "execution_count": 3,
   "id": "8b3d36fa",
   "metadata": {},
   "outputs": [
    {
     "data": {
      "text/html": [
       "<div>\n",
       "<style scoped>\n",
       "    .dataframe tbody tr th:only-of-type {\n",
       "        vertical-align: middle;\n",
       "    }\n",
       "\n",
       "    .dataframe tbody tr th {\n",
       "        vertical-align: top;\n",
       "    }\n",
       "\n",
       "    .dataframe thead th {\n",
       "        text-align: right;\n",
       "    }\n",
       "</style>\n",
       "<table border=\"1\" class=\"dataframe\">\n",
       "  <thead>\n",
       "    <tr style=\"text-align: right;\">\n",
       "      <th></th>\n",
       "      <th>id</th>\n",
       "      <th>followers</th>\n",
       "      <th>genres</th>\n",
       "      <th>name</th>\n",
       "      <th>popularity</th>\n",
       "    </tr>\n",
       "  </thead>\n",
       "  <tbody>\n",
       "    <tr>\n",
       "      <th>144481</th>\n",
       "      <td>1uNFoZAHBGtllmzznpCI3s</td>\n",
       "      <td>44606973.0</td>\n",
       "      <td>['canadian pop', 'pop', 'post-teen pop']</td>\n",
       "      <td>Justin Bieber</td>\n",
       "      <td>100</td>\n",
       "    </tr>\n",
       "    <tr>\n",
       "      <th>115489</th>\n",
       "      <td>4q3ewBCX7sLwd24euuV69X</td>\n",
       "      <td>32244734.0</td>\n",
       "      <td>['latin', 'reggaeton', 'trap latino']</td>\n",
       "      <td>Bad Bunny</td>\n",
       "      <td>98</td>\n",
       "    </tr>\n",
       "    <tr>\n",
       "      <th>126338</th>\n",
       "      <td>06HL4z0CvFAxyc27GXpf02</td>\n",
       "      <td>38869193.0</td>\n",
       "      <td>['pop', 'post-teen pop']</td>\n",
       "      <td>Taylor Swift</td>\n",
       "      <td>98</td>\n",
       "    </tr>\n",
       "    <tr>\n",
       "      <th>313676</th>\n",
       "      <td>3TVXtAsR1Inumwj472S9r4</td>\n",
       "      <td>54416812.0</td>\n",
       "      <td>['canadian hip hop', 'canadian pop', 'hip hop'...</td>\n",
       "      <td>Drake</td>\n",
       "      <td>98</td>\n",
       "    </tr>\n",
       "    <tr>\n",
       "      <th>144484</th>\n",
       "      <td>3Nrfpe0tUJi4K4DXYWgMUX</td>\n",
       "      <td>31623813.0</td>\n",
       "      <td>['k-pop', 'k-pop boy group']</td>\n",
       "      <td>BTS</td>\n",
       "      <td>96</td>\n",
       "    </tr>\n",
       "  </tbody>\n",
       "</table>\n",
       "</div>"
      ],
      "text/plain": [
       "                            id   followers  \\\n",
       "144481  1uNFoZAHBGtllmzznpCI3s  44606973.0   \n",
       "115489  4q3ewBCX7sLwd24euuV69X  32244734.0   \n",
       "126338  06HL4z0CvFAxyc27GXpf02  38869193.0   \n",
       "313676  3TVXtAsR1Inumwj472S9r4  54416812.0   \n",
       "144484  3Nrfpe0tUJi4K4DXYWgMUX  31623813.0   \n",
       "\n",
       "                                                   genres           name  \\\n",
       "144481           ['canadian pop', 'pop', 'post-teen pop']  Justin Bieber   \n",
       "115489              ['latin', 'reggaeton', 'trap latino']      Bad Bunny   \n",
       "126338                           ['pop', 'post-teen pop']   Taylor Swift   \n",
       "313676  ['canadian hip hop', 'canadian pop', 'hip hop'...          Drake   \n",
       "144484                       ['k-pop', 'k-pop boy group']            BTS   \n",
       "\n",
       "        popularity  \n",
       "144481         100  \n",
       "115489          98  \n",
       "126338          98  \n",
       "313676          98  \n",
       "144484          96  "
      ]
     },
     "execution_count": 3,
     "metadata": {},
     "output_type": "execute_result"
    }
   ],
   "source": [
    "artists.sort_values('popularity',ascending=False).head()"
   ]
  },
  {
   "cell_type": "code",
   "execution_count": 4,
   "id": "49e033a5",
   "metadata": {},
   "outputs": [
    {
     "name": "stdout",
     "output_type": "stream",
     "text": [
      "<class 'pandas.core.frame.DataFrame'>\n",
      "RangeIndex: 1104349 entries, 0 to 1104348\n",
      "Data columns (total 5 columns):\n",
      " #   Column      Non-Null Count    Dtype  \n",
      "---  ------      --------------    -----  \n",
      " 0   id          1104349 non-null  object \n",
      " 1   followers   1104336 non-null  float64\n",
      " 2   genres      1104349 non-null  object \n",
      " 3   name        1104346 non-null  object \n",
      " 4   popularity  1104349 non-null  int64  \n",
      "dtypes: float64(1), int64(1), object(3)\n",
      "memory usage: 42.1+ MB\n"
     ]
    }
   ],
   "source": [
    "artists.info()"
   ]
  },
  {
   "cell_type": "markdown",
   "id": "f57f3524",
   "metadata": {},
   "source": [
    "# cleaning"
   ]
  },
  {
   "cell_type": "markdown",
   "id": "35b89524",
   "metadata": {},
   "source": [
    "# missing"
   ]
  },
  {
   "cell_type": "code",
   "execution_count": 5,
   "id": "11500f11",
   "metadata": {},
   "outputs": [],
   "source": [
    "artists.genres=artists.genres.str.replace(r\"[\\[''\\\"\\\"\\]]\",\"\",regex=True).str.strip()"
   ]
  },
  {
   "cell_type": "code",
   "execution_count": 6,
   "id": "951a67a8",
   "metadata": {},
   "outputs": [
    {
     "data": {
      "text/plain": [
       "id             0\n",
       "followers     13\n",
       "genres         0\n",
       "name           3\n",
       "popularity     0\n",
       "dtype: int64"
      ]
     },
     "execution_count": 6,
     "metadata": {},
     "output_type": "execute_result"
    }
   ],
   "source": [
    "artists.isnull().sum()"
   ]
  },
  {
   "cell_type": "code",
   "execution_count": 7,
   "id": "0c2b6c01",
   "metadata": {},
   "outputs": [],
   "source": [
    "# artists\n",
    "artists.dropna(subset='name',inplace=True)"
   ]
  },
  {
   "cell_type": "code",
   "execution_count": 8,
   "id": "1b1dcb84",
   "metadata": {},
   "outputs": [],
   "source": [
    " # followers\n",
    "artists.dropna(subset='followers',inplace=True)"
   ]
  },
  {
   "cell_type": "code",
   "execution_count": 10,
   "id": "49576f73",
   "metadata": {},
   "outputs": [
    {
     "data": {
      "text/html": [
       "<div>\n",
       "<style scoped>\n",
       "    .dataframe tbody tr th:only-of-type {\n",
       "        vertical-align: middle;\n",
       "    }\n",
       "\n",
       "    .dataframe tbody tr th {\n",
       "        vertical-align: top;\n",
       "    }\n",
       "\n",
       "    .dataframe thead th {\n",
       "        text-align: right;\n",
       "    }\n",
       "</style>\n",
       "<table border=\"1\" class=\"dataframe\">\n",
       "  <thead>\n",
       "    <tr style=\"text-align: right;\">\n",
       "      <th></th>\n",
       "      <th>id</th>\n",
       "      <th>followers</th>\n",
       "      <th>genres</th>\n",
       "      <th>name</th>\n",
       "      <th>popularity</th>\n",
       "    </tr>\n",
       "  </thead>\n",
       "  <tbody>\n",
       "    <tr>\n",
       "      <th>0</th>\n",
       "      <td>0VLMVnVbJyJ4oyZs2L3Yl2</td>\n",
       "      <td>71.0</td>\n",
       "      <td>carnaval cadiz</td>\n",
       "      <td>Las Viudas De Los Bisabuelos</td>\n",
       "      <td>6</td>\n",
       "    </tr>\n",
       "    <tr>\n",
       "      <th>1</th>\n",
       "      <td>0dt23bs4w8zx154C5xdVyl</td>\n",
       "      <td>63.0</td>\n",
       "      <td>carnaval cadiz</td>\n",
       "      <td>Los De Capuchinos</td>\n",
       "      <td>5</td>\n",
       "    </tr>\n",
       "    <tr>\n",
       "      <th>2</th>\n",
       "      <td>0pGhoB99qpEJEsBQxgaskQ</td>\n",
       "      <td>64.0</td>\n",
       "      <td>carnaval cadiz</td>\n",
       "      <td>Los “Pofesionales”</td>\n",
       "      <td>7</td>\n",
       "    </tr>\n",
       "    <tr>\n",
       "      <th>3</th>\n",
       "      <td>3HDrX2OtSuXLW5dLR85uN3</td>\n",
       "      <td>53.0</td>\n",
       "      <td>carnaval cadiz</td>\n",
       "      <td>Los Que No Paran De Rajar</td>\n",
       "      <td>6</td>\n",
       "    </tr>\n",
       "    <tr>\n",
       "      <th>4</th>\n",
       "      <td>22mLrN5fkppmuUPsHx6i2G</td>\n",
       "      <td>59.0</td>\n",
       "      <td>classical harp, harp</td>\n",
       "      <td>Vera Dulova</td>\n",
       "      <td>3</td>\n",
       "    </tr>\n",
       "    <tr>\n",
       "      <th>...</th>\n",
       "      <td>...</td>\n",
       "      <td>...</td>\n",
       "      <td>...</td>\n",
       "      <td>...</td>\n",
       "      <td>...</td>\n",
       "    </tr>\n",
       "    <tr>\n",
       "      <th>298604</th>\n",
       "      <td>1q9C5XlekzXbRLIuLCDTre</td>\n",
       "      <td>90087.0</td>\n",
       "      <td>social media pop, teen pop</td>\n",
       "      <td>Brent Rivera</td>\n",
       "      <td>33</td>\n",
       "    </tr>\n",
       "    <tr>\n",
       "      <th>298605</th>\n",
       "      <td>4fh2BIKYPFvXFsQLhaeVJp</td>\n",
       "      <td>309.0</td>\n",
       "      <td>la indie</td>\n",
       "      <td>Lone Kodiak</td>\n",
       "      <td>20</td>\n",
       "    </tr>\n",
       "    <tr>\n",
       "      <th>298606</th>\n",
       "      <td>7akMsd2vb4xowNTehv3gsY</td>\n",
       "      <td>774.0</td>\n",
       "      <td>indie rockism</td>\n",
       "      <td>The Str!ke</td>\n",
       "      <td>0</td>\n",
       "    </tr>\n",
       "    <tr>\n",
       "      <th>298607</th>\n",
       "      <td>35m7AJrUCtHYHyIUhCzmgi</td>\n",
       "      <td>205.0</td>\n",
       "      <td>indie rockism</td>\n",
       "      <td>Hunter Fraser</td>\n",
       "      <td>6</td>\n",
       "    </tr>\n",
       "    <tr>\n",
       "      <th>298608</th>\n",
       "      <td>1ljurfXKPlGncNdW3J8zJ8</td>\n",
       "      <td>2123.0</td>\n",
       "      <td>deep acoustic pop</td>\n",
       "      <td>Right the Stars</td>\n",
       "      <td>18</td>\n",
       "    </tr>\n",
       "  </tbody>\n",
       "</table>\n",
       "<p>298609 rows × 5 columns</p>\n",
       "</div>"
      ],
      "text/plain": [
       "                            id  followers                      genres  \\\n",
       "0       0VLMVnVbJyJ4oyZs2L3Yl2       71.0              carnaval cadiz   \n",
       "1       0dt23bs4w8zx154C5xdVyl       63.0              carnaval cadiz   \n",
       "2       0pGhoB99qpEJEsBQxgaskQ       64.0              carnaval cadiz   \n",
       "3       3HDrX2OtSuXLW5dLR85uN3       53.0              carnaval cadiz   \n",
       "4       22mLrN5fkppmuUPsHx6i2G       59.0        classical harp, harp   \n",
       "...                        ...        ...                         ...   \n",
       "298604  1q9C5XlekzXbRLIuLCDTre    90087.0  social media pop, teen pop   \n",
       "298605  4fh2BIKYPFvXFsQLhaeVJp      309.0                    la indie   \n",
       "298606  7akMsd2vb4xowNTehv3gsY      774.0               indie rockism   \n",
       "298607  35m7AJrUCtHYHyIUhCzmgi      205.0               indie rockism   \n",
       "298608  1ljurfXKPlGncNdW3J8zJ8     2123.0           deep acoustic pop   \n",
       "\n",
       "                                name  popularity  \n",
       "0       Las Viudas De Los Bisabuelos           6  \n",
       "1                  Los De Capuchinos           5  \n",
       "2                 Los “Pofesionales”           7  \n",
       "3          Los Que No Paran De Rajar           6  \n",
       "4                        Vera Dulova           3  \n",
       "...                              ...         ...  \n",
       "298604                  Brent Rivera          33  \n",
       "298605                   Lone Kodiak          20  \n",
       "298606                    The Str!ke           0  \n",
       "298607                 Hunter Fraser           6  \n",
       "298608               Right the Stars          18  \n",
       "\n",
       "[298609 rows x 5 columns]"
      ]
     },
     "execution_count": 10,
     "metadata": {},
     "output_type": "execute_result"
    }
   ],
   "source": [
    "# genres\n",
    "artists=artists[artists.genres!='']\n",
    "artists.set_index(np.arange(len(artists)))"
   ]
  },
  {
   "cell_type": "code",
   "execution_count": 11,
   "id": "74f3b6be",
   "metadata": {},
   "outputs": [
    {
     "data": {
      "text/plain": [
       "id            0\n",
       "followers     0\n",
       "genres        0\n",
       "name          0\n",
       "popularity    0\n",
       "dtype: int64"
      ]
     },
     "execution_count": 11,
     "metadata": {},
     "output_type": "execute_result"
    }
   ],
   "source": [
    "artists.isnull().sum()"
   ]
  },
  {
   "cell_type": "markdown",
   "id": "88984e5b",
   "metadata": {},
   "source": [
    "# add new column [main_genre] + cleaning"
   ]
  },
  {
   "cell_type": "code",
   "execution_count": 12,
   "id": "06e6ab9d",
   "metadata": {},
   "outputs": [],
   "source": [
    "genre_list = ['brazilian', 'bollywood', 'sufi','filmi','pop', 'rock', 'classic', 'r&b', 'edm', 'rap', 'hip hop','electronic', \n",
    "                 'country', 'jazz',  'indie', 'folk',  'metal', 'latin',  'cumbia', 'instrumental','gospel', 'afrobeat',\n",
    "                 'blues','acoustic','traditional','sufi', 'chinese']\n",
    "\n",
    "def find_main_genre(entry):\n",
    "    words = entry.split(', ')\n",
    "    word_counts = {}\n",
    "    for word in words:\n",
    "        if word in word_counts:\n",
    "            word_counts[word] += 1\n",
    "        else:\n",
    "            word_counts[word] = 1\n",
    "    \n",
    "    if max(word_counts.values())>1:\n",
    "        main_genre = max(word_counts, key=word_counts.get)\n",
    "        return main_genre\n",
    "    else:    \n",
    "        for genre in genre_list:\n",
    "            if genre in word:\n",
    "                return genre\n",
    "    \n",
    "\n",
    "artists['main_genre'] = artists['genres'].apply(find_main_genre)\n"
   ]
  },
  {
   "cell_type": "markdown",
   "id": "ee7090e3",
   "metadata": {},
   "source": [
    "# columns"
   ]
  },
  {
   "cell_type": "code",
   "execution_count": 18,
   "id": "988b1115",
   "metadata": {},
   "outputs": [],
   "source": [
    "artists.main_genre.isnull().sum()\n",
    "artists.dropna(subset='main_genre',inplace=True)\n",
    "artists.drop('genres',axis='columns',inplace=True)"
   ]
  },
  {
   "cell_type": "code",
   "execution_count": 19,
   "id": "b8fd012a",
   "metadata": {},
   "outputs": [
    {
     "name": "stdout",
     "output_type": "stream",
     "text": [
      "<class 'pandas.core.frame.DataFrame'>\n",
      "Index: 152693 entries, 141 to 1104345\n",
      "Data columns (total 5 columns):\n",
      " #   Column      Non-Null Count   Dtype  \n",
      "---  ------      --------------   -----  \n",
      " 0   id          152693 non-null  object \n",
      " 1   followers   152693 non-null  float64\n",
      " 2   name        152693 non-null  object \n",
      " 3   popularity  152693 non-null  int64  \n",
      " 4   main_genre  152693 non-null  object \n",
      "dtypes: float64(1), int64(1), object(3)\n",
      "memory usage: 7.0+ MB\n"
     ]
    }
   ],
   "source": [
    "artists.info()"
   ]
  },
  {
   "cell_type": "markdown",
   "id": "04addcfb",
   "metadata": {},
   "source": [
    "# exporting cleaned dataset"
   ]
  },
  {
   "cell_type": "code",
   "execution_count": 15,
   "id": "79c206c0",
   "metadata": {},
   "outputs": [],
   "source": [
    "artists.to_csv('artists_cleaned.csv',index=False)"
   ]
  }
 ],
 "metadata": {
  "kernelspec": {
   "display_name": "Python 3 (ipykernel)",
   "language": "python",
   "name": "python3"
  },
  "language_info": {
   "codemirror_mode": {
    "name": "ipython",
    "version": 3
   },
   "file_extension": ".py",
   "mimetype": "text/x-python",
   "name": "python",
   "nbconvert_exporter": "python",
   "pygments_lexer": "ipython3",
   "version": "3.11.5"
  }
 },
 "nbformat": 4,
 "nbformat_minor": 5
}
